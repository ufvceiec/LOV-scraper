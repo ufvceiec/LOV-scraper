{
 "cells": [
  {
   "cell_type": "code",
   "execution_count": 20,
   "metadata": {
    "ExecuteTime": {
     "end_time": "2020-03-16T12:35:11.686538Z",
     "start_time": "2020-03-16T12:35:11.682549Z"
    }
   },
   "outputs": [],
   "source": [
    "from selenium import webdriver \n",
    "import csv\n",
    "from selenium.common.exceptions import *\n",
    "import time\n",
    "import pandas as pd\n",
    "import numpy as np"
   ]
  },
  {
   "cell_type": "code",
   "execution_count": 21,
   "metadata": {
    "ExecuteTime": {
     "end_time": "2020-03-16T12:35:11.888057Z",
     "start_time": "2020-03-16T12:35:11.882096Z"
    }
   },
   "outputs": [],
   "source": [
    "def linkeddata_info(vocab):\n",
    "    vocab_info = []\n",
    "    csv_row = []\n",
    "    url_info = \"https://lov.linkeddata.es/dataset/lov/vocabs/\"+vocab\n",
    "    browser_info.get(url_info)\n",
    "    time.sleep(1)\n",
    "    vocab_info.append(vocab) \n",
    "    namespace = browser_info.find_element_by_xpath(\"//td[text()='Namespace']/following-sibling::td\")\n",
    "    vocab_info.append(namespace.text)\n",
    "    classes_properties = browser_info.find_elements_by_xpath(\"//*[contains(@class, 'nv-bar positive')]\")\n",
    "    if len(classes_properties) > 0:\n",
    "        vocab_info.append(classes_properties[0].text)\n",
    "        vocab_info.append(classes_properties[1].text)\n",
    "    else:\n",
    "        vocab_info.append(0)\n",
    "        vocab_info.append(0)        \n",
    "    try:\n",
    "        download = browser_info.find_element_by_xpath(\"//a[contains(@href, 'https://lov.linkeddata.es/dataset/lov/vocabs/')]\")\n",
    "        download.click()\n",
    "    except NoSuchElementException:\n",
    "        print(vocab)\n",
    "    csv_row.append(vocab_info)\n",
    "    return csv_row"
   ]
  },
  {
   "cell_type": "code",
   "execution_count": 22,
   "metadata": {
    "ExecuteTime": {
     "end_time": "2020-03-16T12:35:13.148239Z",
     "start_time": "2020-03-16T12:35:13.146232Z"
    }
   },
   "outputs": [],
   "source": [
    "def header():\n",
    "    csv_row=[]\n",
    "    head = [\"NAME\", \"NAMESPACE\", \"CLASSES\", \"PROPERTIES\"]\n",
    "    csv_row.append(head)\n",
    "    return csv_row"
   ]
  },
  {
   "cell_type": "markdown",
   "metadata": {},
   "source": [
    "# Inicialización de los buscadores"
   ]
  },
  {
   "cell_type": "code",
   "execution_count": 23,
   "metadata": {
    "ExecuteTime": {
     "end_time": "2020-03-16T12:35:34.329978Z",
     "start_time": "2020-03-16T12:35:20.257509Z"
    }
   },
   "outputs": [],
   "source": [
    "main_url = \"https://lov.linkeddata.es/dataset/lov/vocabs/\"\n",
    "browser_main = webdriver.Firefox()\n",
    "browser_main.get(main_url)\n",
    "browser_info = webdriver.Firefox()\n",
    "browser_info.get('https://lov.linkeddata.es/dataset/lov/vocabs/a-loc')"
   ]
  },
  {
   "cell_type": "markdown",
   "metadata": {},
   "source": [
    "# Bucle del scraper"
   ]
  },
  {
   "cell_type": "code",
   "execution_count": 24,
   "metadata": {
    "ExecuteTime": {
     "end_time": "2020-03-16T13:02:07.042621Z",
     "start_time": "2020-03-16T12:36:08.531199Z"
    }
   },
   "outputs": [
    {
     "name": "stdout",
     "output_type": "stream",
     "text": [
      "opm\n",
      "td\n",
      "xsd\n"
     ]
    }
   ],
   "source": [
    "page = 1\n",
    "row = 0\n",
    "url = 'https://lov.linkeddata.es/dataset/lov/vocabs/?&page='\n",
    "while page < 48:                                      \n",
    "    vocabs = browser_main.find_elements_by_xpath(\"//span[@class = 'prefix']\")\n",
    "    for i in vocabs:                                                        \n",
    "        with open('linkeddata.csv', 'a', encoding=\"utf-8\") as f:                \n",
    "            writer = csv.writer(f,delimiter='\\t')\n",
    "            if row == 0 :\n",
    "                writer.writerows(header())                              \n",
    "            writer.writerows(linkeddata_info(i.text))\n",
    "        row += 1\n",
    "    page += 1\n",
    "    nexturl = url+ str(page)   \n",
    "    browser_main.get(nexturl)                                                                         \n",
    "browser_main.close()"
   ]
  },
  {
   "cell_type": "code",
   "execution_count": 25,
   "metadata": {
    "ExecuteTime": {
     "end_time": "2020-03-16T13:31:03.659739Z",
     "start_time": "2020-03-16T13:31:03.634807Z"
    },
    "scrolled": true
   },
   "outputs": [
    {
     "data": {
      "text/html": [
       "<div>\n",
       "<style scoped>\n",
       "    .dataframe tbody tr th:only-of-type {\n",
       "        vertical-align: middle;\n",
       "    }\n",
       "\n",
       "    .dataframe tbody tr th {\n",
       "        vertical-align: top;\n",
       "    }\n",
       "\n",
       "    .dataframe thead th {\n",
       "        text-align: right;\n",
       "    }\n",
       "</style>\n",
       "<table border=\"1\" class=\"dataframe\">\n",
       "  <thead>\n",
       "    <tr style=\"text-align: right;\">\n",
       "      <th></th>\n",
       "      <th>NAME</th>\n",
       "      <th>NAMESPACE</th>\n",
       "      <th>CLASSES</th>\n",
       "      <th>PROPERTIES</th>\n",
       "    </tr>\n",
       "  </thead>\n",
       "  <tbody>\n",
       "    <tr>\n",
       "      <th>0</th>\n",
       "      <td>a-loc</td>\n",
       "      <td>https://w3id.org/arco/ontology/location/</td>\n",
       "      <td>22</td>\n",
       "      <td>74</td>\n",
       "    </tr>\n",
       "    <tr>\n",
       "      <th>1</th>\n",
       "      <td>acco</td>\n",
       "      <td>http://purl.org/acco/ns#</td>\n",
       "      <td>20</td>\n",
       "      <td>26</td>\n",
       "    </tr>\n",
       "    <tr>\n",
       "      <th>2</th>\n",
       "      <td>acl</td>\n",
       "      <td>http://www.w3.org/ns/auth/acl#</td>\n",
       "      <td>6</td>\n",
       "      <td>8</td>\n",
       "    </tr>\n",
       "    <tr>\n",
       "      <th>3</th>\n",
       "      <td>acm</td>\n",
       "      <td>http://acm.rkbexplorer.com/ontologies/acm#</td>\n",
       "      <td>1469</td>\n",
       "      <td>0</td>\n",
       "    </tr>\n",
       "    <tr>\n",
       "      <th>4</th>\n",
       "      <td>acrt</td>\n",
       "      <td>http://privatealpha.com/ontology/certification/1#</td>\n",
       "      <td>1</td>\n",
       "      <td>7</td>\n",
       "    </tr>\n",
       "    <tr>\n",
       "      <th>...</th>\n",
       "      <td>...</td>\n",
       "      <td>...</td>\n",
       "      <td>...</td>\n",
       "      <td>...</td>\n",
       "    </tr>\n",
       "    <tr>\n",
       "      <th>693</th>\n",
       "      <td>xbrll</td>\n",
       "      <td>https://w3id.org/vocab/xbrll#</td>\n",
       "      <td>6</td>\n",
       "      <td>12</td>\n",
       "    </tr>\n",
       "    <tr>\n",
       "      <th>694</th>\n",
       "      <td>xhv</td>\n",
       "      <td>http://www.w3.org/1999/xhtml/vocab#</td>\n",
       "      <td>0</td>\n",
       "      <td>87</td>\n",
       "    </tr>\n",
       "    <tr>\n",
       "      <th>695</th>\n",
       "      <td>xkos</td>\n",
       "      <td>http://rdf-vocabulary.ddialliance.org/xkos#</td>\n",
       "      <td>3</td>\n",
       "      <td>36</td>\n",
       "    </tr>\n",
       "    <tr>\n",
       "      <th>696</th>\n",
       "      <td>xsd</td>\n",
       "      <td>http://www.w3.org/2001/XMLSchema#</td>\n",
       "      <td>0</td>\n",
       "      <td>0</td>\n",
       "    </tr>\n",
       "    <tr>\n",
       "      <th>697</th>\n",
       "      <td>zbwext</td>\n",
       "      <td>http://zbw.eu/namespaces/zbw-extensions/</td>\n",
       "      <td>3</td>\n",
       "      <td>4</td>\n",
       "    </tr>\n",
       "  </tbody>\n",
       "</table>\n",
       "<p>698 rows × 4 columns</p>\n",
       "</div>"
      ],
      "text/plain": [
       "       NAME                                          NAMESPACE  CLASSES  \\\n",
       "0     a-loc           https://w3id.org/arco/ontology/location/       22   \n",
       "1      acco                           http://purl.org/acco/ns#       20   \n",
       "2       acl                     http://www.w3.org/ns/auth/acl#        6   \n",
       "3       acm         http://acm.rkbexplorer.com/ontologies/acm#     1469   \n",
       "4      acrt  http://privatealpha.com/ontology/certification/1#        1   \n",
       "..      ...                                                ...      ...   \n",
       "693   xbrll                      https://w3id.org/vocab/xbrll#        6   \n",
       "694     xhv                http://www.w3.org/1999/xhtml/vocab#        0   \n",
       "695    xkos        http://rdf-vocabulary.ddialliance.org/xkos#        3   \n",
       "696     xsd                  http://www.w3.org/2001/XMLSchema#        0   \n",
       "697  zbwext           http://zbw.eu/namespaces/zbw-extensions/        3   \n",
       "\n",
       "     PROPERTIES  \n",
       "0            74  \n",
       "1            26  \n",
       "2             8  \n",
       "3             0  \n",
       "4             7  \n",
       "..          ...  \n",
       "693          12  \n",
       "694          87  \n",
       "695          36  \n",
       "696           0  \n",
       "697           4  \n",
       "\n",
       "[698 rows x 4 columns]"
      ]
     },
     "execution_count": 25,
     "metadata": {},
     "output_type": "execute_result"
    }
   ],
   "source": [
    "data =  pd.read_csv('linkeddata.csv',  sep='\\t', engine='python', header= 0)\n",
    "data"
   ]
  }
 ],
 "metadata": {
  "kernelspec": {
   "display_name": "Python 3",
   "language": "python",
   "name": "python3"
  },
  "language_info": {
   "codemirror_mode": {
    "name": "ipython",
    "version": 3
   },
   "file_extension": ".py",
   "mimetype": "text/x-python",
   "name": "python",
   "nbconvert_exporter": "python",
   "pygments_lexer": "ipython3",
   "version": "3.6.8"
  },
  "toc": {
   "base_numbering": 1,
   "nav_menu": {},
   "number_sections": true,
   "sideBar": true,
   "skip_h1_title": false,
   "title_cell": "Table of Contents",
   "title_sidebar": "Contents",
   "toc_cell": false,
   "toc_position": {},
   "toc_section_display": true,
   "toc_window_display": false
  }
 },
 "nbformat": 4,
 "nbformat_minor": 2
}
